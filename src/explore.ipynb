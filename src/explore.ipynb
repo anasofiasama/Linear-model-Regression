{
    "cells": [
        {
            "cell_type": "markdown",
            "metadata": {},
            "source": [
                "# Predicción del seguro médico\n",
                "\n"
            ]
        },
        {
            "cell_type": "code",
            "execution_count": 183,
            "metadata": {},
            "outputs": [],
            "source": [
                "import pandas as pd\n",
                "import numpy as np\n",
                "import matplotlib.pyplot as plt"
            ]
        },
        {
            "cell_type": "markdown",
            "metadata": {},
            "source": [
                "### Paso 1: importación del dataset"
            ]
        },
        {
            "cell_type": "code",
            "execution_count": 184,
            "metadata": {},
            "outputs": [],
            "source": [
                "url='https://raw.githubusercontent.com/4GeeksAcademy/linear-regression-project-tutorial/main/medical_insurance_cost.csv'\n",
                "df=pd.read_csv(url)"
            ]
        },
        {
            "cell_type": "markdown",
            "metadata": {},
            "source": [
                "### Paso 2: análisis exploratorio"
            ]
        },
        {
            "cell_type": "code",
            "execution_count": 185,
            "metadata": {},
            "outputs": [
                {
                    "data": {
                        "text/html": [
                            "<div>\n",
                            "<style scoped>\n",
                            "    .dataframe tbody tr th:only-of-type {\n",
                            "        vertical-align: middle;\n",
                            "    }\n",
                            "\n",
                            "    .dataframe tbody tr th {\n",
                            "        vertical-align: top;\n",
                            "    }\n",
                            "\n",
                            "    .dataframe thead th {\n",
                            "        text-align: right;\n",
                            "    }\n",
                            "</style>\n",
                            "<table border=\"1\" class=\"dataframe\">\n",
                            "  <thead>\n",
                            "    <tr style=\"text-align: right;\">\n",
                            "      <th></th>\n",
                            "      <th>age</th>\n",
                            "      <th>sex</th>\n",
                            "      <th>bmi</th>\n",
                            "      <th>children</th>\n",
                            "      <th>smoker</th>\n",
                            "      <th>region</th>\n",
                            "      <th>charges</th>\n",
                            "    </tr>\n",
                            "  </thead>\n",
                            "  <tbody>\n",
                            "    <tr>\n",
                            "      <th>412</th>\n",
                            "      <td>26</td>\n",
                            "      <td>female</td>\n",
                            "      <td>17.195</td>\n",
                            "      <td>2</td>\n",
                            "      <td>yes</td>\n",
                            "      <td>northeast</td>\n",
                            "      <td>14455.64405</td>\n",
                            "    </tr>\n",
                            "    <tr>\n",
                            "      <th>135</th>\n",
                            "      <td>22</td>\n",
                            "      <td>female</td>\n",
                            "      <td>28.050</td>\n",
                            "      <td>0</td>\n",
                            "      <td>no</td>\n",
                            "      <td>southeast</td>\n",
                            "      <td>2155.68150</td>\n",
                            "    </tr>\n",
                            "    <tr>\n",
                            "      <th>211</th>\n",
                            "      <td>40</td>\n",
                            "      <td>male</td>\n",
                            "      <td>30.875</td>\n",
                            "      <td>4</td>\n",
                            "      <td>no</td>\n",
                            "      <td>northwest</td>\n",
                            "      <td>8162.71625</td>\n",
                            "    </tr>\n",
                            "    <tr>\n",
                            "      <th>1278</th>\n",
                            "      <td>39</td>\n",
                            "      <td>male</td>\n",
                            "      <td>29.925</td>\n",
                            "      <td>1</td>\n",
                            "      <td>yes</td>\n",
                            "      <td>northeast</td>\n",
                            "      <td>22462.04375</td>\n",
                            "    </tr>\n",
                            "    <tr>\n",
                            "      <th>142</th>\n",
                            "      <td>34</td>\n",
                            "      <td>male</td>\n",
                            "      <td>25.300</td>\n",
                            "      <td>2</td>\n",
                            "      <td>yes</td>\n",
                            "      <td>southeast</td>\n",
                            "      <td>18972.49500</td>\n",
                            "    </tr>\n",
                            "    <tr>\n",
                            "      <th>216</th>\n",
                            "      <td>53</td>\n",
                            "      <td>female</td>\n",
                            "      <td>26.600</td>\n",
                            "      <td>0</td>\n",
                            "      <td>no</td>\n",
                            "      <td>northwest</td>\n",
                            "      <td>10355.64100</td>\n",
                            "    </tr>\n",
                            "    <tr>\n",
                            "      <th>1284</th>\n",
                            "      <td>61</td>\n",
                            "      <td>male</td>\n",
                            "      <td>36.300</td>\n",
                            "      <td>1</td>\n",
                            "      <td>yes</td>\n",
                            "      <td>southwest</td>\n",
                            "      <td>47403.88000</td>\n",
                            "    </tr>\n",
                            "    <tr>\n",
                            "      <th>14</th>\n",
                            "      <td>27</td>\n",
                            "      <td>male</td>\n",
                            "      <td>42.130</td>\n",
                            "      <td>0</td>\n",
                            "      <td>yes</td>\n",
                            "      <td>southeast</td>\n",
                            "      <td>39611.75770</td>\n",
                            "    </tr>\n",
                            "    <tr>\n",
                            "      <th>1091</th>\n",
                            "      <td>55</td>\n",
                            "      <td>female</td>\n",
                            "      <td>29.830</td>\n",
                            "      <td>0</td>\n",
                            "      <td>no</td>\n",
                            "      <td>northeast</td>\n",
                            "      <td>11286.53870</td>\n",
                            "    </tr>\n",
                            "    <tr>\n",
                            "      <th>777</th>\n",
                            "      <td>45</td>\n",
                            "      <td>male</td>\n",
                            "      <td>39.805</td>\n",
                            "      <td>0</td>\n",
                            "      <td>no</td>\n",
                            "      <td>northeast</td>\n",
                            "      <td>7448.40395</td>\n",
                            "    </tr>\n",
                            "  </tbody>\n",
                            "</table>\n",
                            "</div>"
                        ],
                        "text/plain": [
                            "      age     sex     bmi  children smoker     region      charges\n",
                            "412    26  female  17.195         2    yes  northeast  14455.64405\n",
                            "135    22  female  28.050         0     no  southeast   2155.68150\n",
                            "211    40    male  30.875         4     no  northwest   8162.71625\n",
                            "1278   39    male  29.925         1    yes  northeast  22462.04375\n",
                            "142    34    male  25.300         2    yes  southeast  18972.49500\n",
                            "216    53  female  26.600         0     no  northwest  10355.64100\n",
                            "1284   61    male  36.300         1    yes  southwest  47403.88000\n",
                            "14     27    male  42.130         0    yes  southeast  39611.75770\n",
                            "1091   55  female  29.830         0     no  northeast  11286.53870\n",
                            "777    45    male  39.805         0     no  northeast   7448.40395"
                        ]
                    },
                    "execution_count": 185,
                    "metadata": {},
                    "output_type": "execute_result"
                }
            ],
            "source": [
                "df.sample(10)"
            ]
        },
        {
            "cell_type": "code",
            "execution_count": 186,
            "metadata": {},
            "outputs": [
                {
                    "name": "stdout",
                    "output_type": "stream",
                    "text": [
                        "<class 'pandas.core.frame.DataFrame'>\n",
                        "RangeIndex: 1338 entries, 0 to 1337\n",
                        "Data columns (total 7 columns):\n",
                        " #   Column    Non-Null Count  Dtype  \n",
                        "---  ------    --------------  -----  \n",
                        " 0   age       1338 non-null   int64  \n",
                        " 1   sex       1338 non-null   object \n",
                        " 2   bmi       1338 non-null   float64\n",
                        " 3   children  1338 non-null   int64  \n",
                        " 4   smoker    1338 non-null   object \n",
                        " 5   region    1338 non-null   object \n",
                        " 6   charges   1338 non-null   float64\n",
                        "dtypes: float64(2), int64(2), object(3)\n",
                        "memory usage: 73.3+ KB\n"
                    ]
                }
            ],
            "source": [
                "df.info()"
            ]
        },
        {
            "cell_type": "code",
            "execution_count": 187,
            "metadata": {},
            "outputs": [
                {
                    "data": {
                        "text/html": [
                            "<div>\n",
                            "<style scoped>\n",
                            "    .dataframe tbody tr th:only-of-type {\n",
                            "        vertical-align: middle;\n",
                            "    }\n",
                            "\n",
                            "    .dataframe tbody tr th {\n",
                            "        vertical-align: top;\n",
                            "    }\n",
                            "\n",
                            "    .dataframe thead th {\n",
                            "        text-align: right;\n",
                            "    }\n",
                            "</style>\n",
                            "<table border=\"1\" class=\"dataframe\">\n",
                            "  <thead>\n",
                            "    <tr style=\"text-align: right;\">\n",
                            "      <th></th>\n",
                            "      <th>age</th>\n",
                            "      <th>bmi</th>\n",
                            "      <th>children</th>\n",
                            "      <th>charges</th>\n",
                            "    </tr>\n",
                            "  </thead>\n",
                            "  <tbody>\n",
                            "    <tr>\n",
                            "      <th>count</th>\n",
                            "      <td>1338.000000</td>\n",
                            "      <td>1338.000000</td>\n",
                            "      <td>1338.000000</td>\n",
                            "      <td>1338.000000</td>\n",
                            "    </tr>\n",
                            "    <tr>\n",
                            "      <th>mean</th>\n",
                            "      <td>39.207025</td>\n",
                            "      <td>30.663397</td>\n",
                            "      <td>1.094918</td>\n",
                            "      <td>13270.422265</td>\n",
                            "    </tr>\n",
                            "    <tr>\n",
                            "      <th>std</th>\n",
                            "      <td>14.049960</td>\n",
                            "      <td>6.098187</td>\n",
                            "      <td>1.205493</td>\n",
                            "      <td>12110.011237</td>\n",
                            "    </tr>\n",
                            "    <tr>\n",
                            "      <th>min</th>\n",
                            "      <td>18.000000</td>\n",
                            "      <td>15.960000</td>\n",
                            "      <td>0.000000</td>\n",
                            "      <td>1121.873900</td>\n",
                            "    </tr>\n",
                            "    <tr>\n",
                            "      <th>25%</th>\n",
                            "      <td>27.000000</td>\n",
                            "      <td>26.296250</td>\n",
                            "      <td>0.000000</td>\n",
                            "      <td>4740.287150</td>\n",
                            "    </tr>\n",
                            "    <tr>\n",
                            "      <th>50%</th>\n",
                            "      <td>39.000000</td>\n",
                            "      <td>30.400000</td>\n",
                            "      <td>1.000000</td>\n",
                            "      <td>9382.033000</td>\n",
                            "    </tr>\n",
                            "    <tr>\n",
                            "      <th>75%</th>\n",
                            "      <td>51.000000</td>\n",
                            "      <td>34.693750</td>\n",
                            "      <td>2.000000</td>\n",
                            "      <td>16639.912515</td>\n",
                            "    </tr>\n",
                            "    <tr>\n",
                            "      <th>max</th>\n",
                            "      <td>64.000000</td>\n",
                            "      <td>53.130000</td>\n",
                            "      <td>5.000000</td>\n",
                            "      <td>63770.428010</td>\n",
                            "    </tr>\n",
                            "  </tbody>\n",
                            "</table>\n",
                            "</div>"
                        ],
                        "text/plain": [
                            "               age          bmi     children       charges\n",
                            "count  1338.000000  1338.000000  1338.000000   1338.000000\n",
                            "mean     39.207025    30.663397     1.094918  13270.422265\n",
                            "std      14.049960     6.098187     1.205493  12110.011237\n",
                            "min      18.000000    15.960000     0.000000   1121.873900\n",
                            "25%      27.000000    26.296250     0.000000   4740.287150\n",
                            "50%      39.000000    30.400000     1.000000   9382.033000\n",
                            "75%      51.000000    34.693750     2.000000  16639.912515\n",
                            "max      64.000000    53.130000     5.000000  63770.428010"
                        ]
                    },
                    "execution_count": 187,
                    "metadata": {},
                    "output_type": "execute_result"
                }
            ],
            "source": [
                "df.describe()"
            ]
        },
        {
            "cell_type": "code",
            "execution_count": 188,
            "metadata": {},
            "outputs": [],
            "source": [
                "obj=df.select_dtypes('object').columns\n",
                "df[obj]=df[obj].astype('category')"
            ]
        },
        {
            "cell_type": "code",
            "execution_count": 189,
            "metadata": {},
            "outputs": [
                {
                    "data": {
                        "text/html": [
                            "<div>\n",
                            "<style scoped>\n",
                            "    .dataframe tbody tr th:only-of-type {\n",
                            "        vertical-align: middle;\n",
                            "    }\n",
                            "\n",
                            "    .dataframe tbody tr th {\n",
                            "        vertical-align: top;\n",
                            "    }\n",
                            "\n",
                            "    .dataframe thead th {\n",
                            "        text-align: right;\n",
                            "    }\n",
                            "</style>\n",
                            "<table border=\"1\" class=\"dataframe\">\n",
                            "  <thead>\n",
                            "    <tr style=\"text-align: right;\">\n",
                            "      <th></th>\n",
                            "      <th>sex</th>\n",
                            "      <th>smoker</th>\n",
                            "      <th>region</th>\n",
                            "    </tr>\n",
                            "  </thead>\n",
                            "  <tbody>\n",
                            "    <tr>\n",
                            "      <th>count</th>\n",
                            "      <td>1338</td>\n",
                            "      <td>1338</td>\n",
                            "      <td>1338</td>\n",
                            "    </tr>\n",
                            "    <tr>\n",
                            "      <th>unique</th>\n",
                            "      <td>2</td>\n",
                            "      <td>2</td>\n",
                            "      <td>4</td>\n",
                            "    </tr>\n",
                            "    <tr>\n",
                            "      <th>top</th>\n",
                            "      <td>male</td>\n",
                            "      <td>no</td>\n",
                            "      <td>southeast</td>\n",
                            "    </tr>\n",
                            "    <tr>\n",
                            "      <th>freq</th>\n",
                            "      <td>676</td>\n",
                            "      <td>1064</td>\n",
                            "      <td>364</td>\n",
                            "    </tr>\n",
                            "  </tbody>\n",
                            "</table>\n",
                            "</div>"
                        ],
                        "text/plain": [
                            "         sex smoker     region\n",
                            "count   1338   1338       1338\n",
                            "unique     2      2          4\n",
                            "top     male     no  southeast\n",
                            "freq     676   1064        364"
                        ]
                    },
                    "execution_count": 189,
                    "metadata": {},
                    "output_type": "execute_result"
                }
            ],
            "source": [
                "df.describe(include='category')"
            ]
        },
        {
            "cell_type": "markdown",
            "metadata": {},
            "source": [
                "Se observa que no existen missing values ni parecerían existir valores atípicos a simple vista."
            ]
        },
        {
            "cell_type": "code",
            "execution_count": 190,
            "metadata": {},
            "outputs": [
                {
                    "name": "stdout",
                    "output_type": "stream",
                    "text": [
                        "\n",
                        "Categorias de  sex\n",
                        "\n",
                        "male      0.505232\n",
                        "female    0.494768\n",
                        "Name: sex, dtype: float64\n",
                        "\n",
                        "Categorias de  smoker\n",
                        "\n",
                        "no     0.795217\n",
                        "yes    0.204783\n",
                        "Name: smoker, dtype: float64\n",
                        "\n",
                        "Categorias de  region\n",
                        "\n",
                        "southeast    0.272048\n",
                        "northwest    0.242900\n",
                        "southwest    0.242900\n",
                        "northeast    0.242152\n",
                        "Name: region, dtype: float64\n"
                    ]
                }
            ],
            "source": [
                "for i in df.select_dtypes('category'):\n",
                "    print('')\n",
                "    print('Categorias de ',i)\n",
                "    print('')\n",
                "    print(df[i].value_counts(normalize=True))"
            ]
        },
        {
            "cell_type": "markdown",
            "metadata": {},
            "source": [
                "Se observa que la muestra está equilibrada por sexo y región, pero no así por fumadores, hay mayor representación de fumadores. Este desbalance puede llevar a que el modelo no prediga correctamente el impacto de ser fumador en el costo del seguro."
            ]
        },
        {
            "cell_type": "code",
            "execution_count": 191,
            "metadata": {},
            "outputs": [],
            "source": [
                "X=df.drop(columns='charges')\n",
                "y=df['charges']"
            ]
        },
        {
            "cell_type": "markdown",
            "metadata": {},
            "source": [
                "Se divide la muestra entre entrenamiento y prueba considerando proporciones de 80-20."
            ]
        },
        {
            "cell_type": "code",
            "execution_count": 192,
            "metadata": {},
            "outputs": [],
            "source": [
                "from sklearn.model_selection import train_test_split\n"
            ]
        },
        {
            "cell_type": "code",
            "execution_count": 193,
            "metadata": {},
            "outputs": [],
            "source": [
                "X_train, X_test, y_train, y_test = train_test_split(X, y, test_size=0.2, random_state=57)"
            ]
        },
        {
            "cell_type": "code",
            "execution_count": 194,
            "metadata": {},
            "outputs": [],
            "source": [
                "X_train.reset_index(drop=True,inplace=True)\n",
                "X_test.reset_index(drop=True,inplace=True)\n",
                "y_train.reset_index(drop=True,inplace=True)\n",
                "y_test.reset_index(drop=True,inplace=True)"
            ]
        },
        {
            "cell_type": "code",
            "execution_count": 195,
            "metadata": {},
            "outputs": [],
            "source": [
                "df_train=X_train.copy()\n",
                "df_train['charge']=y_train"
            ]
        },
        {
            "cell_type": "code",
            "execution_count": 196,
            "metadata": {},
            "outputs": [
                {
                    "name": "stdout",
                    "output_type": "stream",
                    "text": [
                        "<class 'pandas.core.frame.DataFrame'>\n",
                        "RangeIndex: 1070 entries, 0 to 1069\n",
                        "Data columns (total 7 columns):\n",
                        " #   Column    Non-Null Count  Dtype   \n",
                        "---  ------    --------------  -----   \n",
                        " 0   age       1070 non-null   int64   \n",
                        " 1   sex       1070 non-null   category\n",
                        " 2   bmi       1070 non-null   float64 \n",
                        " 3   children  1070 non-null   int64   \n",
                        " 4   smoker    1070 non-null   category\n",
                        " 5   region    1070 non-null   category\n",
                        " 6   charge    1070 non-null   float64 \n",
                        "dtypes: category(3), float64(2), int64(2)\n",
                        "memory usage: 37.1 KB\n"
                    ]
                }
            ],
            "source": [
                "df_train.info()"
            ]
        },
        {
            "cell_type": "code",
            "execution_count": 197,
            "metadata": {},
            "outputs": [
                {
                    "data": {
                        "image/png": "[encoded data removed]",
                        "text/plain": [
                            "<Figure size 432x288 with 1 Axes>"
                        ]
                    },
                    "metadata": {
                        "needs_background": "light"
                    },
                    "output_type": "display_data"
                },
                {
                    "data": {
                        "image/png": "[encoded data removed]",
                        "text/plain": [
                            "<Figure size 432x288 with 1 Axes>"
                        ]
                    },
                    "metadata": {
                        "needs_background": "light"
                    },
                    "output_type": "display_data"
                },
                {
                    "data": {
                        "image/png": "[encoded data removed]",
                        "text/plain": [
                            "<Figure size 432x288 with 1 Axes>"
                        ]
                    },
                    "metadata": {
                        "needs_background": "light"
                    },
                    "output_type": "display_data"
                },
                {
                    "data": {
                        "image/png": "[encoded data removed]",
                        "text/plain": [
                            "<Figure size 432x288 with 1 Axes>"
                        ]
                    },
                    "metadata": {
                        "needs_background": "light"
                    },
                    "output_type": "display_data"
                }
            ],
            "source": [
                "for i in df_train.select_dtypes(['float','int']):\n",
                "    df_train[i].plot(kind='hist')\n",
                "    plt.title(i)\n",
                "    plt.show()\n"
            ]
        },
        {
            "cell_type": "markdown",
            "metadata": {},
            "source": [
                "Considerando solo la muestra de entrenamiento, no se detectan valores atípicos que requieran un estudio más profundo."
            ]
        },
        {
            "cell_type": "markdown",
            "metadata": {},
            "source": [
                "Para seleccionar las variables a considerar se analiza la correlación lineal entre ellas."
            ]
        },
        {
            "cell_type": "code",
            "execution_count": 198,
            "metadata": {},
            "outputs": [
                {
                    "data": {
                        "text/html": [
                            "<div>\n",
                            "<style scoped>\n",
                            "    .dataframe tbody tr th:only-of-type {\n",
                            "        vertical-align: middle;\n",
                            "    }\n",
                            "\n",
                            "    .dataframe tbody tr th {\n",
                            "        vertical-align: top;\n",
                            "    }\n",
                            "\n",
                            "    .dataframe thead th {\n",
                            "        text-align: right;\n",
                            "    }\n",
                            "</style>\n",
                            "<table border=\"1\" class=\"dataframe\">\n",
                            "  <thead>\n",
                            "    <tr style=\"text-align: right;\">\n",
                            "      <th></th>\n",
                            "      <th>age</th>\n",
                            "      <th>bmi</th>\n",
                            "      <th>children</th>\n",
                            "      <th>charge</th>\n",
                            "    </tr>\n",
                            "  </thead>\n",
                            "  <tbody>\n",
                            "    <tr>\n",
                            "      <th>age</th>\n",
                            "      <td>1.000000</td>\n",
                            "      <td>0.098839</td>\n",
                            "      <td>0.023512</td>\n",
                            "      <td>0.297439</td>\n",
                            "    </tr>\n",
                            "    <tr>\n",
                            "      <th>bmi</th>\n",
                            "      <td>0.098839</td>\n",
                            "      <td>1.000000</td>\n",
                            "      <td>0.014912</td>\n",
                            "      <td>0.189630</td>\n",
                            "    </tr>\n",
                            "    <tr>\n",
                            "      <th>children</th>\n",
                            "      <td>0.023512</td>\n",
                            "      <td>0.014912</td>\n",
                            "      <td>1.000000</td>\n",
                            "      <td>0.052584</td>\n",
                            "    </tr>\n",
                            "    <tr>\n",
                            "      <th>charge</th>\n",
                            "      <td>0.297439</td>\n",
                            "      <td>0.189630</td>\n",
                            "      <td>0.052584</td>\n",
                            "      <td>1.000000</td>\n",
                            "    </tr>\n",
                            "  </tbody>\n",
                            "</table>\n",
                            "</div>"
                        ],
                        "text/plain": [
                            "               age       bmi  children    charge\n",
                            "age       1.000000  0.098839  0.023512  0.297439\n",
                            "bmi       0.098839  1.000000  0.014912  0.189630\n",
                            "children  0.023512  0.014912  1.000000  0.052584\n",
                            "charge    0.297439  0.189630  0.052584  1.000000"
                        ]
                    },
                    "execution_count": 198,
                    "metadata": {},
                    "output_type": "execute_result"
                }
            ],
            "source": [
                "df_train.corr()"
            ]
        },
        {
            "cell_type": "markdown",
            "metadata": {},
            "source": [
                "A primera vista la correlación entre las variables explicativas cuantitativas no evidencia existencia de multicolinealidad, siendo esta una buena señal. Al mismo tiempo, se observa que no existe una relación lineal alta entre dichas variables y la variable target. Sin embargo, interesa ver la relación lineal de cada feature cuando se distinguen grupos en función a las variables categóricas."
            ]
        },
        {
            "cell_type": "code",
            "execution_count": 199,
            "metadata": {},
            "outputs": [
                {
                    "data": {
                        "text/html": [
                            "<div>\n",
                            "<style scoped>\n",
                            "    .dataframe tbody tr th:only-of-type {\n",
                            "        vertical-align: middle;\n",
                            "    }\n",
                            "\n",
                            "    .dataframe tbody tr th {\n",
                            "        vertical-align: top;\n",
                            "    }\n",
                            "\n",
                            "    .dataframe thead th {\n",
                            "        text-align: right;\n",
                            "    }\n",
                            "</style>\n",
                            "<table border=\"1\" class=\"dataframe\">\n",
                            "  <thead>\n",
                            "    <tr style=\"text-align: right;\">\n",
                            "      <th></th>\n",
                            "      <th></th>\n",
                            "      <th>age</th>\n",
                            "      <th>bmi</th>\n",
                            "      <th>children</th>\n",
                            "      <th>charge</th>\n",
                            "    </tr>\n",
                            "    <tr>\n",
                            "      <th>sex</th>\n",
                            "      <th></th>\n",
                            "      <th></th>\n",
                            "      <th></th>\n",
                            "      <th></th>\n",
                            "      <th></th>\n",
                            "    </tr>\n",
                            "  </thead>\n",
                            "  <tbody>\n",
                            "    <tr>\n",
                            "      <th rowspan=\"4\" valign=\"top\">female</th>\n",
                            "      <th>age</th>\n",
                            "      <td>1.000000</td>\n",
                            "      <td>0.069650</td>\n",
                            "      <td>0.081279</td>\n",
                            "      <td>0.309725</td>\n",
                            "    </tr>\n",
                            "    <tr>\n",
                            "      <th>bmi</th>\n",
                            "      <td>0.069650</td>\n",
                            "      <td>1.000000</td>\n",
                            "      <td>0.028828</td>\n",
                            "      <td>0.167060</td>\n",
                            "    </tr>\n",
                            "    <tr>\n",
                            "      <th>children</th>\n",
                            "      <td>0.081279</td>\n",
                            "      <td>0.028828</td>\n",
                            "      <td>1.000000</td>\n",
                            "      <td>0.061125</td>\n",
                            "    </tr>\n",
                            "    <tr>\n",
                            "      <th>charge</th>\n",
                            "      <td>0.309725</td>\n",
                            "      <td>0.167060</td>\n",
                            "      <td>0.061125</td>\n",
                            "      <td>1.000000</td>\n",
                            "    </tr>\n",
                            "    <tr>\n",
                            "      <th rowspan=\"4\" valign=\"top\">male</th>\n",
                            "      <th>age</th>\n",
                            "      <td>1.000000</td>\n",
                            "      <td>0.129392</td>\n",
                            "      <td>-0.032611</td>\n",
                            "      <td>0.290097</td>\n",
                            "    </tr>\n",
                            "    <tr>\n",
                            "      <th>bmi</th>\n",
                            "      <td>0.129392</td>\n",
                            "      <td>1.000000</td>\n",
                            "      <td>-0.000569</td>\n",
                            "      <td>0.206190</td>\n",
                            "    </tr>\n",
                            "    <tr>\n",
                            "      <th>children</th>\n",
                            "      <td>-0.032611</td>\n",
                            "      <td>-0.000569</td>\n",
                            "      <td>1.000000</td>\n",
                            "      <td>0.043991</td>\n",
                            "    </tr>\n",
                            "    <tr>\n",
                            "      <th>charge</th>\n",
                            "      <td>0.290097</td>\n",
                            "      <td>0.206190</td>\n",
                            "      <td>0.043991</td>\n",
                            "      <td>1.000000</td>\n",
                            "    </tr>\n",
                            "  </tbody>\n",
                            "</table>\n",
                            "</div>"
                        ],
                        "text/plain": [
                            "                      age       bmi  children    charge\n",
                            "sex                                                    \n",
                            "female age       1.000000  0.069650  0.081279  0.309725\n",
                            "       bmi       0.069650  1.000000  0.028828  0.167060\n",
                            "       children  0.081279  0.028828  1.000000  0.061125\n",
                            "       charge    0.309725  0.167060  0.061125  1.000000\n",
                            "male   age       1.000000  0.129392 -0.032611  0.290097\n",
                            "       bmi       0.129392  1.000000 -0.000569  0.206190\n",
                            "       children -0.032611 -0.000569  1.000000  0.043991\n",
                            "       charge    0.290097  0.206190  0.043991  1.000000"
                        ]
                    },
                    "execution_count": 199,
                    "metadata": {},
                    "output_type": "execute_result"
                }
            ],
            "source": [
                "df_train.groupby('sex')[df_train.columns].corr()"
            ]
        },
        {
            "cell_type": "code",
            "execution_count": 200,
            "metadata": {},
            "outputs": [
                {
                    "data": {
                        "text/html": [
                            "<div>\n",
                            "<style scoped>\n",
                            "    .dataframe tbody tr th:only-of-type {\n",
                            "        vertical-align: middle;\n",
                            "    }\n",
                            "\n",
                            "    .dataframe tbody tr th {\n",
                            "        vertical-align: top;\n",
                            "    }\n",
                            "\n",
                            "    .dataframe thead th {\n",
                            "        text-align: right;\n",
                            "    }\n",
                            "</style>\n",
                            "<table border=\"1\" class=\"dataframe\">\n",
                            "  <thead>\n",
                            "    <tr style=\"text-align: right;\">\n",
                            "      <th></th>\n",
                            "      <th></th>\n",
                            "      <th>age</th>\n",
                            "      <th>bmi</th>\n",
                            "      <th>children</th>\n",
                            "      <th>charges</th>\n",
                            "    </tr>\n",
                            "    <tr>\n",
                            "      <th>smoker</th>\n",
                            "      <th></th>\n",
                            "      <th></th>\n",
                            "      <th></th>\n",
                            "      <th></th>\n",
                            "      <th></th>\n",
                            "    </tr>\n",
                            "  </thead>\n",
                            "  <tbody>\n",
                            "    <tr>\n",
                            "      <th rowspan=\"4\" valign=\"top\">no</th>\n",
                            "      <th>age</th>\n",
                            "      <td>1.000000</td>\n",
                            "      <td>0.122638</td>\n",
                            "      <td>0.033395</td>\n",
                            "      <td>0.627947</td>\n",
                            "    </tr>\n",
                            "    <tr>\n",
                            "      <th>bmi</th>\n",
                            "      <td>0.122638</td>\n",
                            "      <td>1.000000</td>\n",
                            "      <td>0.019208</td>\n",
                            "      <td>0.084037</td>\n",
                            "    </tr>\n",
                            "    <tr>\n",
                            "      <th>children</th>\n",
                            "      <td>0.033395</td>\n",
                            "      <td>0.019208</td>\n",
                            "      <td>1.000000</td>\n",
                            "      <td>0.138929</td>\n",
                            "    </tr>\n",
                            "    <tr>\n",
                            "      <th>charges</th>\n",
                            "      <td>0.627947</td>\n",
                            "      <td>0.084037</td>\n",
                            "      <td>0.138929</td>\n",
                            "      <td>1.000000</td>\n",
                            "    </tr>\n",
                            "    <tr>\n",
                            "      <th rowspan=\"4\" valign=\"top\">yes</th>\n",
                            "      <th>age</th>\n",
                            "      <td>1.000000</td>\n",
                            "      <td>0.059674</td>\n",
                            "      <td>0.081183</td>\n",
                            "      <td>0.368224</td>\n",
                            "    </tr>\n",
                            "    <tr>\n",
                            "      <th>bmi</th>\n",
                            "      <td>0.059674</td>\n",
                            "      <td>1.000000</td>\n",
                            "      <td>-0.012619</td>\n",
                            "      <td>0.806481</td>\n",
                            "    </tr>\n",
                            "    <tr>\n",
                            "      <th>children</th>\n",
                            "      <td>0.081183</td>\n",
                            "      <td>-0.012619</td>\n",
                            "      <td>1.000000</td>\n",
                            "      <td>0.035945</td>\n",
                            "    </tr>\n",
                            "    <tr>\n",
                            "      <th>charges</th>\n",
                            "      <td>0.368224</td>\n",
                            "      <td>0.806481</td>\n",
                            "      <td>0.035945</td>\n",
                            "      <td>1.000000</td>\n",
                            "    </tr>\n",
                            "  </tbody>\n",
                            "</table>\n",
                            "</div>"
                        ],
                        "text/plain": [
                            "                      age       bmi  children   charges\n",
                            "smoker                                                 \n",
                            "no     age       1.000000  0.122638  0.033395  0.627947\n",
                            "       bmi       0.122638  1.000000  0.019208  0.084037\n",
                            "       children  0.033395  0.019208  1.000000  0.138929\n",
                            "       charges   0.627947  0.084037  0.138929  1.000000\n",
                            "yes    age       1.000000  0.059674  0.081183  0.368224\n",
                            "       bmi       0.059674  1.000000 -0.012619  0.806481\n",
                            "       children  0.081183 -0.012619  1.000000  0.035945\n",
                            "       charges   0.368224  0.806481  0.035945  1.000000"
                        ]
                    },
                    "execution_count": 200,
                    "metadata": {},
                    "output_type": "execute_result"
                }
            ],
            "source": [
                "df.groupby('smoker')[df.columns].corr()"
            ]
        },
        {
            "cell_type": "code",
            "execution_count": 201,
            "metadata": {},
            "outputs": [
                {
                    "data": {
                        "text/html": [
                            "<div>\n",
                            "<style scoped>\n",
                            "    .dataframe tbody tr th:only-of-type {\n",
                            "        vertical-align: middle;\n",
                            "    }\n",
                            "\n",
                            "    .dataframe tbody tr th {\n",
                            "        vertical-align: top;\n",
                            "    }\n",
                            "\n",
                            "    .dataframe thead th {\n",
                            "        text-align: right;\n",
                            "    }\n",
                            "</style>\n",
                            "<table border=\"1\" class=\"dataframe\">\n",
                            "  <thead>\n",
                            "    <tr style=\"text-align: right;\">\n",
                            "      <th></th>\n",
                            "      <th></th>\n",
                            "      <th>age</th>\n",
                            "      <th>bmi</th>\n",
                            "      <th>children</th>\n",
                            "      <th>charges</th>\n",
                            "    </tr>\n",
                            "    <tr>\n",
                            "      <th>region</th>\n",
                            "      <th></th>\n",
                            "      <th></th>\n",
                            "      <th></th>\n",
                            "      <th></th>\n",
                            "      <th></th>\n",
                            "    </tr>\n",
                            "  </thead>\n",
                            "  <tbody>\n",
                            "    <tr>\n",
                            "      <th rowspan=\"4\" valign=\"top\">northeast</th>\n",
                            "      <th>age</th>\n",
                            "      <td>1.000000</td>\n",
                            "      <td>0.158684</td>\n",
                            "      <td>-0.007530</td>\n",
                            "      <td>0.300951</td>\n",
                            "    </tr>\n",
                            "    <tr>\n",
                            "      <th>bmi</th>\n",
                            "      <td>0.158684</td>\n",
                            "      <td>1.000000</td>\n",
                            "      <td>-0.021209</td>\n",
                            "      <td>0.231712</td>\n",
                            "    </tr>\n",
                            "    <tr>\n",
                            "      <th>children</th>\n",
                            "      <td>-0.007530</td>\n",
                            "      <td>-0.021209</td>\n",
                            "      <td>1.000000</td>\n",
                            "      <td>0.067929</td>\n",
                            "    </tr>\n",
                            "    <tr>\n",
                            "      <th>charges</th>\n",
                            "      <td>0.300951</td>\n",
                            "      <td>0.231712</td>\n",
                            "      <td>0.067929</td>\n",
                            "      <td>1.000000</td>\n",
                            "    </tr>\n",
                            "    <tr>\n",
                            "      <th rowspan=\"4\" valign=\"top\">northwest</th>\n",
                            "      <th>age</th>\n",
                            "      <td>1.000000</td>\n",
                            "      <td>0.102804</td>\n",
                            "      <td>0.063832</td>\n",
                            "      <td>0.337654</td>\n",
                            "    </tr>\n",
                            "    <tr>\n",
                            "      <th>bmi</th>\n",
                            "      <td>0.102804</td>\n",
                            "      <td>1.000000</td>\n",
                            "      <td>0.083024</td>\n",
                            "      <td>0.181073</td>\n",
                            "    </tr>\n",
                            "    <tr>\n",
                            "      <th>children</th>\n",
                            "      <td>0.063832</td>\n",
                            "      <td>0.083024</td>\n",
                            "      <td>1.000000</td>\n",
                            "      <td>0.160382</td>\n",
                            "    </tr>\n",
                            "    <tr>\n",
                            "      <th>charges</th>\n",
                            "      <td>0.337654</td>\n",
                            "      <td>0.181073</td>\n",
                            "      <td>0.160382</td>\n",
                            "      <td>1.000000</td>\n",
                            "    </tr>\n",
                            "    <tr>\n",
                            "      <th rowspan=\"4\" valign=\"top\">southeast</th>\n",
                            "      <th>age</th>\n",
                            "      <td>1.000000</td>\n",
                            "      <td>0.019731</td>\n",
                            "      <td>0.116481</td>\n",
                            "      <td>0.310593</td>\n",
                            "    </tr>\n",
                            "    <tr>\n",
                            "      <th>bmi</th>\n",
                            "      <td>0.019731</td>\n",
                            "      <td>1.000000</td>\n",
                            "      <td>-0.034462</td>\n",
                            "      <td>0.142994</td>\n",
                            "    </tr>\n",
                            "    <tr>\n",
                            "      <th>children</th>\n",
                            "      <td>0.116481</td>\n",
                            "      <td>-0.034462</td>\n",
                            "      <td>1.000000</td>\n",
                            "      <td>0.046431</td>\n",
                            "    </tr>\n",
                            "    <tr>\n",
                            "      <th>charges</th>\n",
                            "      <td>0.310593</td>\n",
                            "      <td>0.142994</td>\n",
                            "      <td>0.046431</td>\n",
                            "      <td>1.000000</td>\n",
                            "    </tr>\n",
                            "    <tr>\n",
                            "      <th rowspan=\"4\" valign=\"top\">southwest</th>\n",
                            "      <th>age</th>\n",
                            "      <td>1.000000</td>\n",
                            "      <td>0.212355</td>\n",
                            "      <td>-0.008655</td>\n",
                            "      <td>0.258358</td>\n",
                            "    </tr>\n",
                            "    <tr>\n",
                            "      <th>bmi</th>\n",
                            "      <td>0.212355</td>\n",
                            "      <td>1.000000</td>\n",
                            "      <td>0.065811</td>\n",
                            "      <td>0.222928</td>\n",
                            "    </tr>\n",
                            "    <tr>\n",
                            "      <th>children</th>\n",
                            "      <td>-0.008655</td>\n",
                            "      <td>0.065811</td>\n",
                            "      <td>1.000000</td>\n",
                            "      <td>0.028188</td>\n",
                            "    </tr>\n",
                            "    <tr>\n",
                            "      <th>charges</th>\n",
                            "      <td>0.258358</td>\n",
                            "      <td>0.222928</td>\n",
                            "      <td>0.028188</td>\n",
                            "      <td>1.000000</td>\n",
                            "    </tr>\n",
                            "  </tbody>\n",
                            "</table>\n",
                            "</div>"
                        ],
                        "text/plain": [
                            "                         age       bmi  children   charges\n",
                            "region                                                    \n",
                            "northeast age       1.000000  0.158684 -0.007530  0.300951\n",
                            "          bmi       0.158684  1.000000 -0.021209  0.231712\n",
                            "          children -0.007530 -0.021209  1.000000  0.067929\n",
                            "          charges   0.300951  0.231712  0.067929  1.000000\n",
                            "northwest age       1.000000  0.102804  0.063832  0.337654\n",
                            "          bmi       0.102804  1.000000  0.083024  0.181073\n",
                            "          children  0.063832  0.083024  1.000000  0.160382\n",
                            "          charges   0.337654  0.181073  0.160382  1.000000\n",
                            "southeast age       1.000000  0.019731  0.116481  0.310593\n",
                            "          bmi       0.019731  1.000000 -0.034462  0.142994\n",
                            "          children  0.116481 -0.034462  1.000000  0.046431\n",
                            "          charges   0.310593  0.142994  0.046431  1.000000\n",
                            "southwest age       1.000000  0.212355 -0.008655  0.258358\n",
                            "          bmi       0.212355  1.000000  0.065811  0.222928\n",
                            "          children -0.008655  0.065811  1.000000  0.028188\n",
                            "          charges   0.258358  0.222928  0.028188  1.000000"
                        ]
                    },
                    "execution_count": 201,
                    "metadata": {},
                    "output_type": "execute_result"
                }
            ],
            "source": [
                "df.groupby('region')[df.columns].corr()"
            ]
        },
        {
            "cell_type": "code",
            "execution_count": 202,
            "metadata": {},
            "outputs": [
                {
                    "data": {
                        "image/png": "[encoded data removed]",
                        "text/plain": [
                            "<Figure size 432x288 with 1 Axes>"
                        ]
                    },
                    "metadata": {
                        "needs_background": "light"
                    },
                    "output_type": "display_data"
                }
            ],
            "source": [
                "df.groupby('smoker')['charges'].plot(kind='hist',alpha=0.5)\n",
                "plt.title('Distribución del cargo por sexo')\n",
                "plt.xlabel('Cargo')\n",
                "plt.show()"
            ]
        },
        {
            "cell_type": "markdown",
            "metadata": {},
            "source": [
                "De lo anterior se observa que la correlación lineal con la variable objetivo varía entre grupos. Para algunos grupos son más relevantes algunas variables para determinar el cargo, mientras que para otras no. Por ejemplo, en el caso de los fumadores la variable 'bmi' parecería ser relevante para determinar el cargo, mientras que para los que no son fumadores, no lo es.\n",
                "\n",
                "Como conlusión del análisis exploratorio, se decide considerar todas las variables como explicativas pero lo ideal sería plantear dos modelos lineales separando fumadores de no fumadores, en base a que la correlación lineal entre las variables explicativas y la variable objetivo difieren entre categorías. Sin embargo, dado que los datos son bastante pocos y si se dividen los grupos serían aún menos para entrenar y probar el modelo, se decide implementar el modelo para todos los datos."
            ]
        },
        {
            "cell_type": "markdown",
            "metadata": {},
            "source": [
                "### Paso 3: Tratamiento de las variables"
            ]
        },
        {
            "cell_type": "markdown",
            "metadata": {},
            "source": [
                "Primero se divide la variable edad en rangos."
            ]
        },
        {
            "cell_type": "code",
            "execution_count": 203,
            "metadata": {},
            "outputs": [],
            "source": [
                "X_train['age_rang']=pd.cut(X_train['age'],bins=[10,20,30,40,50,60,70])\n",
                "X_train['age_rang']=X_train['age_rang'].astype('category')\n",
                "X_train=X_train.drop(columns='age')\n",
                "\n",
                "# Replico para la muestra de prueba\n",
                "X_test['age_rang']=pd.cut(X_test['age'],bins=[10,20,30,40,50,60,70])\n",
                "X_test['age_rang']=X_test['age_rang'].astype('category')\n",
                "X_test=X_test.drop(columns='age')"
            ]
        },
        {
            "cell_type": "code",
            "execution_count": 204,
            "metadata": {},
            "outputs": [
                {
                    "data": {
                        "text/plain": [
                            "(40, 50]    228\n",
                            "(20, 30]    227\n",
                            "(30, 40]    208\n",
                            "(50, 60]    208\n",
                            "(10, 20]    123\n",
                            "(60, 70]     76\n",
                            "Name: age_rang, dtype: int64"
                        ]
                    },
                    "execution_count": 204,
                    "metadata": {},
                    "output_type": "execute_result"
                }
            ],
            "source": [
                "X_train['age_rang'].value_counts()"
            ]
        },
        {
            "cell_type": "markdown",
            "metadata": {},
            "source": [
                "En segundo lugar es codifican las variables categóricas y escalan las continuas."
            ]
        },
        {
            "cell_type": "code",
            "execution_count": 205,
            "metadata": {},
            "outputs": [],
            "source": [
                "X_train=pd.get_dummies(X_train)\n",
                "X_test=pd.get_dummies(X_test) # transformo también las variables para la prueba"
            ]
        },
        {
            "cell_type": "code",
            "execution_count": 206,
            "metadata": {},
            "outputs": [
                {
                    "name": "stdout",
                    "output_type": "stream",
                    "text": [
                        "<class 'pandas.core.frame.DataFrame'>\n",
                        "RangeIndex: 1070 entries, 0 to 1069\n",
                        "Data columns (total 16 columns):\n",
                        " #   Column             Non-Null Count  Dtype  \n",
                        "---  ------             --------------  -----  \n",
                        " 0   bmi                1070 non-null   float64\n",
                        " 1   children           1070 non-null   int64  \n",
                        " 2   sex_female         1070 non-null   uint8  \n",
                        " 3   sex_male           1070 non-null   uint8  \n",
                        " 4   smoker_no          1070 non-null   uint8  \n",
                        " 5   smoker_yes         1070 non-null   uint8  \n",
                        " 6   region_northeast   1070 non-null   uint8  \n",
                        " 7   region_northwest   1070 non-null   uint8  \n",
                        " 8   region_southeast   1070 non-null   uint8  \n",
                        " 9   region_southwest   1070 non-null   uint8  \n",
                        " 10  age_rang_(10, 20]  1070 non-null   uint8  \n",
                        " 11  age_rang_(20, 30]  1070 non-null   uint8  \n",
                        " 12  age_rang_(30, 40]  1070 non-null   uint8  \n",
                        " 13  age_rang_(40, 50]  1070 non-null   uint8  \n",
                        " 14  age_rang_(50, 60]  1070 non-null   uint8  \n",
                        " 15  age_rang_(60, 70]  1070 non-null   uint8  \n",
                        "dtypes: float64(1), int64(1), uint8(14)\n",
                        "memory usage: 31.5 KB\n"
                    ]
                }
            ],
            "source": [
                "X_train.info()"
            ]
        },
        {
            "cell_type": "code",
            "execution_count": 207,
            "metadata": {},
            "outputs": [
                {
                    "name": "stdout",
                    "output_type": "stream",
                    "text": [
                        "<class 'pandas.core.frame.DataFrame'>\n",
                        "RangeIndex: 268 entries, 0 to 267\n",
                        "Data columns (total 16 columns):\n",
                        " #   Column             Non-Null Count  Dtype  \n",
                        "---  ------             --------------  -----  \n",
                        " 0   bmi                268 non-null    float64\n",
                        " 1   children           268 non-null    int64  \n",
                        " 2   sex_female         268 non-null    uint8  \n",
                        " 3   sex_male           268 non-null    uint8  \n",
                        " 4   smoker_no          268 non-null    uint8  \n",
                        " 5   smoker_yes         268 non-null    uint8  \n",
                        " 6   region_northeast   268 non-null    uint8  \n",
                        " 7   region_northwest   268 non-null    uint8  \n",
                        " 8   region_southeast   268 non-null    uint8  \n",
                        " 9   region_southwest   268 non-null    uint8  \n",
                        " 10  age_rang_(10, 20]  268 non-null    uint8  \n",
                        " 11  age_rang_(20, 30]  268 non-null    uint8  \n",
                        " 12  age_rang_(30, 40]  268 non-null    uint8  \n",
                        " 13  age_rang_(40, 50]  268 non-null    uint8  \n",
                        " 14  age_rang_(50, 60]  268 non-null    uint8  \n",
                        " 15  age_rang_(60, 70]  268 non-null    uint8  \n",
                        "dtypes: float64(1), int64(1), uint8(14)\n",
                        "memory usage: 8.0 KB\n"
                    ]
                }
            ],
            "source": [
                "X_test.info()"
            ]
        },
        {
            "cell_type": "markdown",
            "metadata": {},
            "source": [
                "Para realizar la estandarización de las variables continuas se decide aplicar el método estandar a las variables 'bmi'  y 'children', dado que parecería distribuirse al rededor de un centro."
            ]
        },
        {
            "cell_type": "code",
            "execution_count": 208,
            "metadata": {},
            "outputs": [],
            "source": [
                "from sklearn.preprocessing import StandardScaler"
            ]
        },
        {
            "cell_type": "code",
            "execution_count": 209,
            "metadata": {},
            "outputs": [],
            "source": [
                "sc = StandardScaler()\n",
                "X_train_sc = sc.fit_transform(X_train.select_dtypes(['int','float']))\n",
                "X_test_sc = sc.transform (X_test.select_dtypes(['int','float']))"
            ]
        },
        {
            "cell_type": "code",
            "execution_count": 210,
            "metadata": {},
            "outputs": [],
            "source": [
                "X_train['bmi']=pd.DataFrame(X_train_sc,columns=['bmi','children'])['bmi']\n",
                "X_train['children']=pd.DataFrame(X_train_sc,columns=['bmi','children'])['children']\n",
                "X_test['bmi']=pd.DataFrame(X_test_sc,columns=['bmi','children'])['bmi']\n",
                "X_test['children']=pd.DataFrame(X_test_sc,columns=['bmi','children'])['children']"
            ]
        },
        {
            "cell_type": "code",
            "execution_count": 211,
            "metadata": {},
            "outputs": [
                {
                    "data": {
                        "text/html": [
                            "<div>\n",
                            "<style scoped>\n",
                            "    .dataframe tbody tr th:only-of-type {\n",
                            "        vertical-align: middle;\n",
                            "    }\n",
                            "\n",
                            "    .dataframe tbody tr th {\n",
                            "        vertical-align: top;\n",
                            "    }\n",
                            "\n",
                            "    .dataframe thead th {\n",
                            "        text-align: right;\n",
                            "    }\n",
                            "</style>\n",
                            "<table border=\"1\" class=\"dataframe\">\n",
                            "  <thead>\n",
                            "    <tr style=\"text-align: right;\">\n",
                            "      <th></th>\n",
                            "      <th>bmi</th>\n",
                            "      <th>children</th>\n",
                            "      <th>sex_female</th>\n",
                            "      <th>sex_male</th>\n",
                            "      <th>smoker_no</th>\n",
                            "      <th>smoker_yes</th>\n",
                            "      <th>region_northeast</th>\n",
                            "      <th>region_northwest</th>\n",
                            "      <th>region_southeast</th>\n",
                            "      <th>region_southwest</th>\n",
                            "      <th>age_rang_(10, 20]</th>\n",
                            "      <th>age_rang_(20, 30]</th>\n",
                            "      <th>age_rang_(30, 40]</th>\n",
                            "      <th>age_rang_(40, 50]</th>\n",
                            "      <th>age_rang_(50, 60]</th>\n",
                            "      <th>age_rang_(60, 70]</th>\n",
                            "    </tr>\n",
                            "  </thead>\n",
                            "  <tbody>\n",
                            "    <tr>\n",
                            "      <th>0</th>\n",
                            "      <td>-0.390595</td>\n",
                            "      <td>-0.912822</td>\n",
                            "      <td>1</td>\n",
                            "      <td>0</td>\n",
                            "      <td>0</td>\n",
                            "      <td>1</td>\n",
                            "      <td>0</td>\n",
                            "      <td>0</td>\n",
                            "      <td>0</td>\n",
                            "      <td>1</td>\n",
                            "      <td>1</td>\n",
                            "      <td>0</td>\n",
                            "      <td>0</td>\n",
                            "      <td>0</td>\n",
                            "      <td>0</td>\n",
                            "      <td>0</td>\n",
                            "    </tr>\n",
                            "    <tr>\n",
                            "      <th>1</th>\n",
                            "      <td>0.985572</td>\n",
                            "      <td>-0.912822</td>\n",
                            "      <td>0</td>\n",
                            "      <td>1</td>\n",
                            "      <td>1</td>\n",
                            "      <td>0</td>\n",
                            "      <td>0</td>\n",
                            "      <td>0</td>\n",
                            "      <td>0</td>\n",
                            "      <td>1</td>\n",
                            "      <td>0</td>\n",
                            "      <td>0</td>\n",
                            "      <td>0</td>\n",
                            "      <td>0</td>\n",
                            "      <td>1</td>\n",
                            "      <td>0</td>\n",
                            "    </tr>\n",
                            "    <tr>\n",
                            "      <th>2</th>\n",
                            "      <td>1.089603</td>\n",
                            "      <td>0.731487</td>\n",
                            "      <td>1</td>\n",
                            "      <td>0</td>\n",
                            "      <td>1</td>\n",
                            "      <td>0</td>\n",
                            "      <td>0</td>\n",
                            "      <td>1</td>\n",
                            "      <td>0</td>\n",
                            "      <td>0</td>\n",
                            "      <td>0</td>\n",
                            "      <td>0</td>\n",
                            "      <td>1</td>\n",
                            "      <td>0</td>\n",
                            "      <td>0</td>\n",
                            "      <td>0</td>\n",
                            "    </tr>\n",
                            "    <tr>\n",
                            "      <th>3</th>\n",
                            "      <td>1.262443</td>\n",
                            "      <td>0.731487</td>\n",
                            "      <td>0</td>\n",
                            "      <td>1</td>\n",
                            "      <td>1</td>\n",
                            "      <td>0</td>\n",
                            "      <td>0</td>\n",
                            "      <td>0</td>\n",
                            "      <td>1</td>\n",
                            "      <td>0</td>\n",
                            "      <td>0</td>\n",
                            "      <td>0</td>\n",
                            "      <td>1</td>\n",
                            "      <td>0</td>\n",
                            "      <td>0</td>\n",
                            "      <td>0</td>\n",
                            "    </tr>\n",
                            "    <tr>\n",
                            "      <th>4</th>\n",
                            "      <td>-0.622414</td>\n",
                            "      <td>-0.912822</td>\n",
                            "      <td>1</td>\n",
                            "      <td>0</td>\n",
                            "      <td>0</td>\n",
                            "      <td>1</td>\n",
                            "      <td>0</td>\n",
                            "      <td>1</td>\n",
                            "      <td>0</td>\n",
                            "      <td>0</td>\n",
                            "      <td>0</td>\n",
                            "      <td>0</td>\n",
                            "      <td>0</td>\n",
                            "      <td>1</td>\n",
                            "      <td>0</td>\n",
                            "      <td>0</td>\n",
                            "    </tr>\n",
                            "    <tr>\n",
                            "      <th>5</th>\n",
                            "      <td>0.451488</td>\n",
                            "      <td>3.197949</td>\n",
                            "      <td>0</td>\n",
                            "      <td>1</td>\n",
                            "      <td>1</td>\n",
                            "      <td>0</td>\n",
                            "      <td>0</td>\n",
                            "      <td>0</td>\n",
                            "      <td>1</td>\n",
                            "      <td>0</td>\n",
                            "      <td>0</td>\n",
                            "      <td>0</td>\n",
                            "      <td>1</td>\n",
                            "      <td>0</td>\n",
                            "      <td>0</td>\n",
                            "      <td>0</td>\n",
                            "    </tr>\n",
                            "    <tr>\n",
                            "      <th>6</th>\n",
                            "      <td>-0.684669</td>\n",
                            "      <td>-0.912822</td>\n",
                            "      <td>1</td>\n",
                            "      <td>0</td>\n",
                            "      <td>1</td>\n",
                            "      <td>0</td>\n",
                            "      <td>1</td>\n",
                            "      <td>0</td>\n",
                            "      <td>0</td>\n",
                            "      <td>0</td>\n",
                            "      <td>0</td>\n",
                            "      <td>0</td>\n",
                            "      <td>0</td>\n",
                            "      <td>0</td>\n",
                            "      <td>1</td>\n",
                            "      <td>0</td>\n",
                            "    </tr>\n",
                            "    <tr>\n",
                            "      <th>7</th>\n",
                            "      <td>-0.077681</td>\n",
                            "      <td>-0.912822</td>\n",
                            "      <td>0</td>\n",
                            "      <td>1</td>\n",
                            "      <td>1</td>\n",
                            "      <td>0</td>\n",
                            "      <td>0</td>\n",
                            "      <td>1</td>\n",
                            "      <td>0</td>\n",
                            "      <td>0</td>\n",
                            "      <td>0</td>\n",
                            "      <td>0</td>\n",
                            "      <td>0</td>\n",
                            "      <td>0</td>\n",
                            "      <td>1</td>\n",
                            "      <td>0</td>\n",
                            "    </tr>\n",
                            "    <tr>\n",
                            "      <th>8</th>\n",
                            "      <td>-0.095702</td>\n",
                            "      <td>1.553641</td>\n",
                            "      <td>1</td>\n",
                            "      <td>0</td>\n",
                            "      <td>1</td>\n",
                            "      <td>0</td>\n",
                            "      <td>0</td>\n",
                            "      <td>0</td>\n",
                            "      <td>0</td>\n",
                            "      <td>1</td>\n",
                            "      <td>0</td>\n",
                            "      <td>1</td>\n",
                            "      <td>0</td>\n",
                            "      <td>0</td>\n",
                            "      <td>0</td>\n",
                            "      <td>0</td>\n",
                            "    </tr>\n",
                            "    <tr>\n",
                            "      <th>9</th>\n",
                            "      <td>0.171340</td>\n",
                            "      <td>-0.912822</td>\n",
                            "      <td>0</td>\n",
                            "      <td>1</td>\n",
                            "      <td>1</td>\n",
                            "      <td>0</td>\n",
                            "      <td>1</td>\n",
                            "      <td>0</td>\n",
                            "      <td>0</td>\n",
                            "      <td>0</td>\n",
                            "      <td>0</td>\n",
                            "      <td>1</td>\n",
                            "      <td>0</td>\n",
                            "      <td>0</td>\n",
                            "      <td>0</td>\n",
                            "      <td>0</td>\n",
                            "    </tr>\n",
                            "  </tbody>\n",
                            "</table>\n",
                            "</div>"
                        ],
                        "text/plain": [
                            "        bmi  children  sex_female  sex_male  smoker_no  smoker_yes  \\\n",
                            "0 -0.390595 -0.912822           1         0          0           1   \n",
                            "1  0.985572 -0.912822           0         1          1           0   \n",
                            "2  1.089603  0.731487           1         0          1           0   \n",
                            "3  1.262443  0.731487           0         1          1           0   \n",
                            "4 -0.622414 -0.912822           1         0          0           1   \n",
                            "5  0.451488  3.197949           0         1          1           0   \n",
                            "6 -0.684669 -0.912822           1         0          1           0   \n",
                            "7 -0.077681 -0.912822           0         1          1           0   \n",
                            "8 -0.095702  1.553641           1         0          1           0   \n",
                            "9  0.171340 -0.912822           0         1          1           0   \n",
                            "\n",
                            "   region_northeast  region_northwest  region_southeast  region_southwest  \\\n",
                            "0                 0                 0                 0                 1   \n",
                            "1                 0                 0                 0                 1   \n",
                            "2                 0                 1                 0                 0   \n",
                            "3                 0                 0                 1                 0   \n",
                            "4                 0                 1                 0                 0   \n",
                            "5                 0                 0                 1                 0   \n",
                            "6                 1                 0                 0                 0   \n",
                            "7                 0                 1                 0                 0   \n",
                            "8                 0                 0                 0                 1   \n",
                            "9                 1                 0                 0                 0   \n",
                            "\n",
                            "   age_rang_(10, 20]  age_rang_(20, 30]  age_rang_(30, 40]  age_rang_(40, 50]  \\\n",
                            "0                  1                  0                  0                  0   \n",
                            "1                  0                  0                  0                  0   \n",
                            "2                  0                  0                  1                  0   \n",
                            "3                  0                  0                  1                  0   \n",
                            "4                  0                  0                  0                  1   \n",
                            "5                  0                  0                  1                  0   \n",
                            "6                  0                  0                  0                  0   \n",
                            "7                  0                  0                  0                  0   \n",
                            "8                  0                  1                  0                  0   \n",
                            "9                  0                  1                  0                  0   \n",
                            "\n",
                            "   age_rang_(50, 60]  age_rang_(60, 70]  \n",
                            "0                  0                  0  \n",
                            "1                  1                  0  \n",
                            "2                  0                  0  \n",
                            "3                  0                  0  \n",
                            "4                  0                  0  \n",
                            "5                  0                  0  \n",
                            "6                  1                  0  \n",
                            "7                  1                  0  \n",
                            "8                  0                  0  \n",
                            "9                  0                  0  "
                        ]
                    },
                    "execution_count": 211,
                    "metadata": {},
                    "output_type": "execute_result"
                }
            ],
            "source": [
                "X_train.head(10)"
            ]
        },
        {
            "cell_type": "code",
            "execution_count": 213,
            "metadata": {},
            "outputs": [
                {
                    "data": {
                        "text/plain": [
                            "0    17081.08000\n",
                            "1     9144.56500\n",
                            "2     5989.52365\n",
                            "3     4463.20510\n",
                            "4    21774.32215\n",
                            "5     6653.78860\n",
                            "6    12815.44495\n",
                            "7    10231.49990\n",
                            "8     4234.92700\n",
                            "9     2254.79670\n",
                            "Name: charges, dtype: float64"
                        ]
                    },
                    "execution_count": 213,
                    "metadata": {},
                    "output_type": "execute_result"
                }
            ],
            "source": [
                "y_train.head(10)"
            ]
        },
        {
            "cell_type": "markdown",
            "metadata": {},
            "source": [
                "### Paso 4: Planteo del modelo"
            ]
        },
        {
            "cell_type": "code",
            "execution_count": 159,
            "metadata": {},
            "outputs": [],
            "source": [
                "from sklearn.linear_model import LinearRegression"
            ]
        },
        {
            "cell_type": "code",
            "execution_count": 221,
            "metadata": {},
            "outputs": [
                {
                    "data": {
                        "text/html": [
                            "<style>#sk-container-id-1 {color: black;background-color: white;}#sk-container-id-1 pre{padding: 0;}#sk-container-id-1 div.sk-toggleable {background-color: white;}#sk-container-id-1 label.sk-toggleable__label {cursor: pointer;display: block;width: 100%;margin-bottom: 0;padding: 0.3em;box-sizing: border-box;text-align: center;}#sk-container-id-1 label.sk-toggleable__label-arrow:before {content: \"▸\";float: left;margin-right: 0.25em;color: #696969;}#sk-container-id-1 label.sk-toggleable__label-arrow:hover:before {color: black;}#sk-container-id-1 div.sk-estimator:hover label.sk-toggleable__label-arrow:before {color: black;}#sk-container-id-1 div.sk-toggleable__content {max-height: 0;max-width: 0;overflow: hidden;text-align: left;background-color: #f0f8ff;}#sk-container-id-1 div.sk-toggleable__content pre {margin: 0.2em;color: black;border-radius: 0.25em;background-color: #f0f8ff;}#sk-container-id-1 input.sk-toggleable__control:checked~div.sk-toggleable__content {max-height: 200px;max-width: 100%;overflow: auto;}#sk-container-id-1 input.sk-toggleable__control:checked~label.sk-toggleable__label-arrow:before {content: \"▾\";}#sk-container-id-1 div.sk-estimator input.sk-toggleable__control:checked~label.sk-toggleable__label {background-color: #d4ebff;}#sk-container-id-1 div.sk-label input.sk-toggleable__control:checked~label.sk-toggleable__label {background-color: #d4ebff;}#sk-container-id-1 input.sk-hidden--visually {border: 0;clip: rect(1px 1px 1px 1px);clip: rect(1px, 1px, 1px, 1px);height: 1px;margin: -1px;overflow: hidden;padding: 0;position: absolute;width: 1px;}#sk-container-id-1 div.sk-estimator {font-family: monospace;background-color: #f0f8ff;border: 1px dotted black;border-radius: 0.25em;box-sizing: border-box;margin-bottom: 0.5em;}#sk-container-id-1 div.sk-estimator:hover {background-color: #d4ebff;}#sk-container-id-1 div.sk-parallel-item::after {content: \"\";width: 100%;border-bottom: 1px solid gray;flex-grow: 1;}#sk-container-id-1 div.sk-label:hover label.sk-toggleable__label {background-color: #d4ebff;}#sk-container-id-1 div.sk-serial::before {content: \"\";position: absolute;border-left: 1px solid gray;box-sizing: border-box;top: 0;bottom: 0;left: 50%;z-index: 0;}#sk-container-id-1 div.sk-serial {display: flex;flex-direction: column;align-items: center;background-color: white;padding-right: 0.2em;padding-left: 0.2em;position: relative;}#sk-container-id-1 div.sk-item {position: relative;z-index: 1;}#sk-container-id-1 div.sk-parallel {display: flex;align-items: stretch;justify-content: center;background-color: white;position: relative;}#sk-container-id-1 div.sk-item::before, #sk-container-id-1 div.sk-parallel-item::before {content: \"\";position: absolute;border-left: 1px solid gray;box-sizing: border-box;top: 0;bottom: 0;left: 50%;z-index: -1;}#sk-container-id-1 div.sk-parallel-item {display: flex;flex-direction: column;z-index: 1;position: relative;background-color: white;}#sk-container-id-1 div.sk-parallel-item:first-child::after {align-self: flex-end;width: 50%;}#sk-container-id-1 div.sk-parallel-item:last-child::after {align-self: flex-start;width: 50%;}#sk-container-id-1 div.sk-parallel-item:only-child::after {width: 0;}#sk-container-id-1 div.sk-dashed-wrapped {border: 1px dashed gray;margin: 0 0.4em 0.5em 0.4em;box-sizing: border-box;padding-bottom: 0.4em;background-color: white;}#sk-container-id-1 div.sk-label label {font-family: monospace;font-weight: bold;display: inline-block;line-height: 1.2em;}#sk-container-id-1 div.sk-label-container {text-align: center;}#sk-container-id-1 div.sk-container {/* jupyter's `normalize.less` sets `[hidden] { display: none; }` but bootstrap.min.css set `[hidden] { display: none !important; }` so we also need the `!important` here to be able to override the default hidden behavior on the sphinx rendered scikit-learn.org. See: https://github.com/scikit-learn/scikit-learn/issues/21755 */display: inline-block !important;position: relative;}#sk-container-id-1 div.sk-text-repr-fallback {display: none;}</style><div id=\"sk-container-id-1\" class=\"sk-top-container\"><div class=\"sk-text-repr-fallback\"><pre>LinearRegression()</pre><b>In a Jupyter environment, please rerun this cell to show the HTML representation or trust the notebook. <br />On GitHub, the HTML representation is unable to render, please try loading this page with nbviewer.org.</b></div><div class=\"sk-container\" hidden><div class=\"sk-item\"><div class=\"sk-estimator sk-toggleable\"><input class=\"sk-toggleable__control sk-hidden--visually\" id=\"sk-estimator-id-1\" type=\"checkbox\" checked><label for=\"sk-estimator-id-1\" class=\"sk-toggleable__label sk-toggleable__label-arrow\">LinearRegression</label><div class=\"sk-toggleable__content\"><pre>LinearRegression()</pre></div></div></div></div></div>"
                        ],
                        "text/plain": [
                            "LinearRegression()"
                        ]
                    },
                    "execution_count": 221,
                    "metadata": {},
                    "output_type": "execute_result"
                }
            ],
            "source": [
                "lr = LinearRegression()\n",
                "lr.fit(X_train,y_train)\n"
            ]
        },
        {
            "cell_type": "code",
            "execution_count": 222,
            "metadata": {},
            "outputs": [
                {
                    "name": "stdout",
                    "output_type": "stream",
                    "text": [
                        "                    Coefficient\n",
                        "bmi                 2095.548574\n",
                        "children             755.119636\n",
                        "sex_female            83.947833\n",
                        "sex_male             -83.947833\n",
                        "smoker_no         -11974.310166\n",
                        "smoker_yes         11974.310166\n",
                        "region_northeast     461.913404\n",
                        "region_northwest     563.709147\n",
                        "region_southeast    -541.802643\n",
                        "region_southwest    -483.819909\n",
                        "age_rang_(10, 20]  -4717.490374\n",
                        "age_rang_(20, 30]  -3592.577724\n",
                        "age_rang_(30, 40]  -2575.157926\n",
                        "age_rang_(40, 50]    580.851456\n",
                        "age_rang_(50, 60]   4535.949204\n",
                        "age_rang_(60, 70]   5768.425365\n",
                        "\n",
                        "Intercepto\t\t: 20833.811224\n"
                    ]
                }
            ],
            "source": [
                "#Construir un data dataframe para mostrar los coeficiente por cada variable\n",
                "coeff_df = pd.DataFrame(lr.coef_, X_train.columns, columns=['Coefficient'])  \n",
                "print(coeff_df)\n",
                "print(\"\\nIntercepto\\t\\t: %.6f\" % lr.intercept_)#%.6f, queremos 6 decimales luego del punto"
            ]
        },
        {
            "cell_type": "markdown",
            "metadata": {},
            "source": [
                "**Evaluación del modelo**"
            ]
        },
        {
            "cell_type": "code",
            "execution_count": null,
            "metadata": {},
            "outputs": [],
            "source": [
                "from sklearn.metrics import mean_squared_error, r2_score\n",
                "from scipy import stats"
            ]
        },
        {
            "cell_type": "code",
            "execution_count": null,
            "metadata": {},
            "outputs": [],
            "source": [
                "y_pred=lr.predict(X_test)\n",
                "print('10 primeras predicciones:',y_pred[:10])"
            ]
        },
        {
            "cell_type": "code",
            "execution_count": 219,
            "metadata": {},
            "outputs": [
                {
                    "data": {
                        "image/png": "[encoded data removed]",
                        "text/plain": [
                            "<Figure size 720x720 with 1 Axes>"
                        ]
                    },
                    "metadata": {
                        "needs_background": "light"
                    },
                    "output_type": "display_data"
                }
            ],
            "source": [
                "plt.figure(figsize=(10,10))\n",
                "plt.scatter(y_test, y_pred, c='crimson')\n",
                "#plt.yscale('log')\n",
                "#plt.xscale('log')\n",
                "\n",
                "p1 = max(max(y_pred), max(y_test))\n",
                "p2 = min(min(y_pred), min(y_test))\n",
                "plt.plot([p1, p2], [p1, p2], 'b-')\n",
                "plt.title('Relación entre realidad y predicción con muestra de prueba')\n",
                "plt.xlabel('True Values', fontsize=15)\n",
                "plt.ylabel('Predictions', fontsize=15)\n",
                "plt.axis('equal')\n",
                "plt.show()"
            ]
        },
        {
            "cell_type": "code",
            "execution_count": 220,
            "metadata": {},
            "outputs": [
                {
                    "name": "stdout",
                    "output_type": "stream",
                    "text": [
                        "R^2: 0.744682\t\n",
                        "\n",
                        "Mean squared error\t: 35288486.464556\n",
                        "Coeff. of determination\t: 0.769241\n"
                    ]
                }
            ],
            "source": [
                "# Resultados\n",
                "print(\"R^2: %.6f\\t\" % lr.score(X_train, y_train)) #\\t : tabulador\n",
                "\n",
                "#Calcular el error\n",
                "print('\\nMean squared error\\t: %.6f' % mean_squared_error(y_test, y_pred))\n",
                "print('Coeff. of determination\\t: %.6f' % r2_score(y_test, y_pred))"
            ]
        },
        {
            "cell_type": "markdown",
            "metadata": {},
            "source": [
                "El R cuadrado indica que el modelo explica en un 74.45 % la variación de la variable objetivo considerando los datos de entrenamiento. Si se considera la bondad de ajuste con respecto a la muestra de prueba, se observa que el ajuste mejora levemente llegando a un 76.92 %. \n",
                "\n",
                "Visualmente se puede observar que el modelo estima mejor los costos más bajos que los altos."
            ]
        },
        {
            "cell_type": "markdown",
            "metadata": {},
            "source": [
                "**Mejorando el modelo**"
            ]
        },
        {
            "cell_type": "markdown",
            "metadata": {},
            "source": [
                "Se propone estudiar la significancia de cada coeficiente y así decidir si alguna variable explicativa se puede eliminar del modelo. Para obtener el p-value y la significancia se utiliza la librería de *statsmodels*."
            ]
        },
        {
            "cell_type": "code",
            "execution_count": 227,
            "metadata": {},
            "outputs": [
                {
                    "name": "stdout",
                    "output_type": "stream",
                    "text": [
                        "                            OLS Regression Results                            \n",
                        "==============================================================================\n",
                        "Dep. Variable:                charges   R-squared:                       0.786\n",
                        "Model:                            OLS   Adj. R-squared:                  0.776\n",
                        "Method:                 Least Squares   F-statistic:                     78.02\n",
                        "Date:                Sat, 09 Jul 2022   Prob (F-statistic):           4.22e-78\n",
                        "Time:                        21:36:52   Log-Likelihood:                -2699.0\n",
                        "No. Observations:                 268   AIC:                             5424.\n",
                        "Df Residuals:                     255   BIC:                             5471.\n",
                        "Df Model:                          12                                         \n",
                        "Covariance Type:            nonrobust                                         \n",
                        "=====================================================================================\n",
                        "                        coef    std err          t      P>|t|      [0.025      0.975]\n",
                        "-------------------------------------------------------------------------------------\n",
                        "const              8582.9883    193.681     44.315      0.000    8201.569    8964.407\n",
                        "bmi                1817.5269    404.919      4.489      0.000    1020.116    2614.938\n",
                        "children            714.3697    406.008      1.759      0.080     -85.186    1513.926\n",
                        "sex_female         4245.5582    384.848     11.032      0.000    3487.673    5003.444\n",
                        "sex_male           4337.4301    369.906     11.726      0.000    3608.969    5065.891\n",
                        "smoker_no         -7586.6158    395.351    -19.190      0.000   -8365.185   -6808.047\n",
                        "smoker_yes         1.617e+04    492.517     32.831      0.000    1.52e+04    1.71e+04\n",
                        "region_northeast   3235.5865    629.932      5.136      0.000    1995.054    4476.119\n",
                        "region_northwest    711.9289    665.887      1.069      0.286    -599.409    2023.267\n",
                        "region_southeast   2378.1895    698.894      3.403      0.001    1001.850    3754.529\n",
                        "region_southwest   2257.2833    613.333      3.680      0.000    1049.441    3465.126\n",
                        "age_rang_(10, 20] -5405.7351    879.918     -6.143      0.000   -7138.568   -3672.902\n",
                        "age_rang_(20, 30] -1722.2429    779.295     -2.210      0.028   -3256.916    -187.570\n",
                        "age_rang_(30, 40]  -106.9847    813.144     -0.132      0.895   -1708.317    1494.348\n",
                        "age_rang_(40, 50]  1612.5215    784.796      2.055      0.041      67.014    3158.029\n",
                        "age_rang_(50, 60]  4701.8874    752.096      6.252      0.000    3220.776    6182.999\n",
                        "age_rang_(60, 70]  9503.5420   1326.378      7.165      0.000    6891.492    1.21e+04\n",
                        "==============================================================================\n",
                        "Omnibus:                       67.444   Durbin-Watson:                   1.873\n",
                        "Prob(Omnibus):                  0.000   Jarque-Bera (JB):              155.585\n",
                        "Skew:                           1.199   Prob(JB):                     1.64e-34\n",
                        "Kurtosis:                       5.861   Cond. No.                     3.05e+16\n",
                        "==============================================================================\n",
                        "\n",
                        "Notes:\n",
                        "[1] Standard Errors assume that the covariance matrix of the errors is correctly specified.\n",
                        "[2] The smallest eigenvalue is 7.56e-31. This might indicate that there are\n",
                        "strong multicollinearity problems or that the design matrix is singular.\n"
                    ]
                }
            ],
            "source": [
                "import statsmodels.api as sm\n",
                "from scipy import stats\n",
                "\n",
                "X2 = sm.add_constant(X_test)\n",
                "est = sm.OLS(y_test, X2)\n",
                "est2 = est.fit()\n",
                "print(est2.summary())"
            ]
        },
        {
            "cell_type": "markdown",
            "metadata": {},
            "source": [
                "Considerando un nivel de significancia de 10% se observa que las variables que no son significativas son 'region_northwest' y 'age_rang_(30, 40]'."
            ]
        },
        {
            "cell_type": "code",
            "execution_count": 229,
            "metadata": {},
            "outputs": [],
            "source": [
                "X_train_2=X_train.drop(columns=['region_northwest','age_rang_(30, 40]'])\n",
                "X_test_2=X_test.drop(columns=['region_northwest','age_rang_(30, 40]'])"
            ]
        },
        {
            "cell_type": "code",
            "execution_count": 230,
            "metadata": {},
            "outputs": [
                {
                    "data": {
                        "text/html": [
                            "<style>#sk-container-id-2 {color: black;background-color: white;}#sk-container-id-2 pre{padding: 0;}#sk-container-id-2 div.sk-toggleable {background-color: white;}#sk-container-id-2 label.sk-toggleable__label {cursor: pointer;display: block;width: 100%;margin-bottom: 0;padding: 0.3em;box-sizing: border-box;text-align: center;}#sk-container-id-2 label.sk-toggleable__label-arrow:before {content: \"▸\";float: left;margin-right: 0.25em;color: #696969;}#sk-container-id-2 label.sk-toggleable__label-arrow:hover:before {color: black;}#sk-container-id-2 div.sk-estimator:hover label.sk-toggleable__label-arrow:before {color: black;}#sk-container-id-2 div.sk-toggleable__content {max-height: 0;max-width: 0;overflow: hidden;text-align: left;background-color: #f0f8ff;}#sk-container-id-2 div.sk-toggleable__content pre {margin: 0.2em;color: black;border-radius: 0.25em;background-color: #f0f8ff;}#sk-container-id-2 input.sk-toggleable__control:checked~div.sk-toggleable__content {max-height: 200px;max-width: 100%;overflow: auto;}#sk-container-id-2 input.sk-toggleable__control:checked~label.sk-toggleable__label-arrow:before {content: \"▾\";}#sk-container-id-2 div.sk-estimator input.sk-toggleable__control:checked~label.sk-toggleable__label {background-color: #d4ebff;}#sk-container-id-2 div.sk-label input.sk-toggleable__control:checked~label.sk-toggleable__label {background-color: #d4ebff;}#sk-container-id-2 input.sk-hidden--visually {border: 0;clip: rect(1px 1px 1px 1px);clip: rect(1px, 1px, 1px, 1px);height: 1px;margin: -1px;overflow: hidden;padding: 0;position: absolute;width: 1px;}#sk-container-id-2 div.sk-estimator {font-family: monospace;background-color: #f0f8ff;border: 1px dotted black;border-radius: 0.25em;box-sizing: border-box;margin-bottom: 0.5em;}#sk-container-id-2 div.sk-estimator:hover {background-color: #d4ebff;}#sk-container-id-2 div.sk-parallel-item::after {content: \"\";width: 100%;border-bottom: 1px solid gray;flex-grow: 1;}#sk-container-id-2 div.sk-label:hover label.sk-toggleable__label {background-color: #d4ebff;}#sk-container-id-2 div.sk-serial::before {content: \"\";position: absolute;border-left: 1px solid gray;box-sizing: border-box;top: 0;bottom: 0;left: 50%;z-index: 0;}#sk-container-id-2 div.sk-serial {display: flex;flex-direction: column;align-items: center;background-color: white;padding-right: 0.2em;padding-left: 0.2em;position: relative;}#sk-container-id-2 div.sk-item {position: relative;z-index: 1;}#sk-container-id-2 div.sk-parallel {display: flex;align-items: stretch;justify-content: center;background-color: white;position: relative;}#sk-container-id-2 div.sk-item::before, #sk-container-id-2 div.sk-parallel-item::before {content: \"\";position: absolute;border-left: 1px solid gray;box-sizing: border-box;top: 0;bottom: 0;left: 50%;z-index: -1;}#sk-container-id-2 div.sk-parallel-item {display: flex;flex-direction: column;z-index: 1;position: relative;background-color: white;}#sk-container-id-2 div.sk-parallel-item:first-child::after {align-self: flex-end;width: 50%;}#sk-container-id-2 div.sk-parallel-item:last-child::after {align-self: flex-start;width: 50%;}#sk-container-id-2 div.sk-parallel-item:only-child::after {width: 0;}#sk-container-id-2 div.sk-dashed-wrapped {border: 1px dashed gray;margin: 0 0.4em 0.5em 0.4em;box-sizing: border-box;padding-bottom: 0.4em;background-color: white;}#sk-container-id-2 div.sk-label label {font-family: monospace;font-weight: bold;display: inline-block;line-height: 1.2em;}#sk-container-id-2 div.sk-label-container {text-align: center;}#sk-container-id-2 div.sk-container {/* jupyter's `normalize.less` sets `[hidden] { display: none; }` but bootstrap.min.css set `[hidden] { display: none !important; }` so we also need the `!important` here to be able to override the default hidden behavior on the sphinx rendered scikit-learn.org. See: https://github.com/scikit-learn/scikit-learn/issues/21755 */display: inline-block !important;position: relative;}#sk-container-id-2 div.sk-text-repr-fallback {display: none;}</style><div id=\"sk-container-id-2\" class=\"sk-top-container\"><div class=\"sk-text-repr-fallback\"><pre>LinearRegression()</pre><b>In a Jupyter environment, please rerun this cell to show the HTML representation or trust the notebook. <br />On GitHub, the HTML representation is unable to render, please try loading this page with nbviewer.org.</b></div><div class=\"sk-container\" hidden><div class=\"sk-item\"><div class=\"sk-estimator sk-toggleable\"><input class=\"sk-toggleable__control sk-hidden--visually\" id=\"sk-estimator-id-2\" type=\"checkbox\" checked><label for=\"sk-estimator-id-2\" class=\"sk-toggleable__label sk-toggleable__label-arrow\">LinearRegression</label><div class=\"sk-toggleable__content\"><pre>LinearRegression()</pre></div></div></div></div></div>"
                        ],
                        "text/plain": [
                            "LinearRegression()"
                        ]
                    },
                    "execution_count": 230,
                    "metadata": {},
                    "output_type": "execute_result"
                }
            ],
            "source": [
                "lr = LinearRegression()\n",
                "lr.fit(X_train_2,y_train)"
            ]
        },
        {
            "cell_type": "code",
            "execution_count": 233,
            "metadata": {},
            "outputs": [
                {
                    "name": "stdout",
                    "output_type": "stream",
                    "text": [
                        "R^2: 0.744682\t\n",
                        "\n",
                        "Mean squared error\t: 35288486.464556\n",
                        "Coeff. of determination\t: 0.769241\n"
                    ]
                }
            ],
            "source": [
                "# Resultados\n",
                "print(\"R^2: %.6f\\t\" % lr.score(X_train_2, y_train)) #\\t : tabulador"
            ]
        },
        {
            "cell_type": "code",
            "execution_count": 236,
            "metadata": {},
            "outputs": [
                {
                    "name": "stdout",
                    "output_type": "stream",
                    "text": [
                        "\n",
                        "Mean squared error\t: 35288486.464556\n",
                        "Coeff. of determination\t: 0.769241\n"
                    ]
                }
            ],
            "source": [
                "y_pred_2=lr.predict(X_test_2)\n",
                "\n",
                "#Calcular el error\n",
                "print('\\nMean squared error\\t: %.6f' % mean_squared_error(y_test, y_pred_2))\n",
                "print('Coeff. of determination\\t: %.6f' % r2_score(y_test, y_pred_2))"
            ]
        },
        {
            "cell_type": "markdown",
            "metadata": {},
            "source": [
                "En conclusión, la elminación de las variables no significativas no mejora la bondad de ajuste del modelo. Sin embargo, considerando el principio de persimonia optaría por el modelo con menor cantidad de variables explicativas."
            ]
        },
        {
            "cell_type": "code",
            "execution_count": 239,
            "metadata": {},
            "outputs": [],
            "source": [
                "import pickle\n",
                "filename = '/workspace/Linear-model-Regression/models/finalized_model.sav'\n",
                "pickle.dump(lr, open(filename, 'wb'))"
            ]
        }
    ],
    "metadata": {
        "kernelspec": {
            "display_name": "Python 3.8.13 64-bit ('3.8.13')",
            "language": "python",
            "name": "python3"
        },
        "language_info": {
            "codemirror_mode": {
                "name": "ipython",
                "version": 3
            },
            "file_extension": ".py",
            "mimetype": "text/x-python",
            "name": "python",
            "nbconvert_exporter": "python",
            "pygments_lexer": "ipython3",
            "version": "3.8.13"
        },
        "orig_nbformat": 4,
        "vscode": {
            "interpreter": {
                "hash": "110cc1dee26208153f2972f08a2ad52b6a56238dc66d48e87fb757ef2996db56"
            }
        }
    },
    "nbformat": 4,
    "nbformat_minor": 2
}
